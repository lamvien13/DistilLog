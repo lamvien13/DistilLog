{
  "cells": [
    {
      "cell_type": "code",
      "execution_count": null,
      "metadata": {
        "colab": {
          "base_uri": "https://localhost:8080/"
        },
        "id": "DPlWBlht8f5A",
        "outputId": "f7bd57b7-6441-4d56-ed5a-78165300c256"
      },
      "outputs": [
        {
          "name": "stdout",
          "output_type": "stream",
          "text": [
            "Mounted at /content/drive\n"
          ]
        }
      ],
      "source": [
        "from google.colab import drive\n",
        "drive.mount('/content/drive')"
      ]
    },
    {
      "cell_type": "code",
      "execution_count": null,
      "metadata": {
        "colab": {
          "base_uri": "https://localhost:8080/"
        },
        "id": "WPk33d5AgZsn",
        "outputId": "9c1b468a-9bf1-402e-ac8a-8cf88465613e"
      },
      "outputs": [
        {
          "name": "stdout",
          "output_type": "stream",
          "text": [
            "/content/drive/MyDrive/colab\n"
          ]
        }
      ],
      "source": [
        "%cd drive/MyDrive/colab/"
      ]
    },
    {
      "cell_type": "code",
      "execution_count": null,
      "metadata": {
        "colab": {
          "base_uri": "https://localhost:8080/"
        },
        "id": "taa43wr57887",
        "outputId": "57991c5a-5d24-4b9c-9906-6c0132358fed"
      },
      "outputs": [
        {
          "name": "stdout",
          "output_type": "stream",
          "text": [
            "Collecting fasttext\n",
            "  Downloading fasttext-0.9.2.tar.gz (68 kB)\n",
            "\u001b[?25l\r\u001b[K     |████▊                           | 10 kB 26.2 MB/s eta 0:00:01\r\u001b[K     |█████████▌                      | 20 kB 19.6 MB/s eta 0:00:01\r\u001b[K     |██████████████▎                 | 30 kB 10.8 MB/s eta 0:00:01\r\u001b[K     |███████████████████             | 40 kB 8.9 MB/s eta 0:00:01\r\u001b[K     |███████████████████████▉        | 51 kB 4.6 MB/s eta 0:00:01\r\u001b[K     |████████████████████████████▋   | 61 kB 5.5 MB/s eta 0:00:01\r\u001b[K     |████████████████████████████████| 68 kB 3.7 MB/s \n",
            "\u001b[?25hCollecting pybind11>=2.2\n",
            "  Using cached pybind11-2.9.2-py2.py3-none-any.whl (213 kB)\n",
            "Requirement already satisfied: setuptools>=0.7.0 in /usr/local/lib/python3.7/dist-packages (from fasttext) (57.4.0)\n",
            "Requirement already satisfied: numpy in /usr/local/lib/python3.7/dist-packages (from fasttext) (1.21.5)\n",
            "Building wheels for collected packages: fasttext\n",
            "  Building wheel for fasttext (setup.py) ... \u001b[?25l\u001b[?25hdone\n",
            "  Created wheel for fasttext: filename=fasttext-0.9.2-cp37-cp37m-linux_x86_64.whl size=3141571 sha256=e9e9d3e4e6cd8b0d519795e3fad26c088f4b41368d5aca28d7809130ebd58991\n",
            "  Stored in directory: /root/.cache/pip/wheels/4e/ca/bf/b020d2be95f7641801a6597a29c8f4f19e38f9c02a345bab9b\n",
            "Successfully built fasttext\n",
            "Installing collected packages: pybind11, fasttext\n",
            "Successfully installed fasttext-0.9.2 pybind11-2.9.2\n"
          ]
        }
      ],
      "source": [
        "!pip install fasttext"
      ]
    },
    {
      "cell_type": "code",
      "execution_count": null,
      "metadata": {
        "id": "98OrigSe7ySs"
      },
      "outputs": [],
      "source": [
        "import fasttext.util"
      ]
    },
    {
      "cell_type": "code",
      "execution_count": null,
      "metadata": {
        "colab": {
          "base_uri": "https://localhost:8080/"
        },
        "id": "l5KJFHl5Cge-",
        "outputId": "7cba2c68-bbac-438a-a935-18b7a4e51dfc"
      },
      "outputs": [
        {
          "name": "stderr",
          "output_type": "stream",
          "text": [
            "Warning : `load_model` does not return WordVectorModel or SupervisedModel any more, but a `FastText` object which is very similar.\n"
          ]
        }
      ],
      "source": [
        "ft = fasttext.load_model('cc.en.300.bin')"
      ]
    },
    {
      "cell_type": "code",
      "execution_count": null,
      "metadata": {
        "colab": {
          "base_uri": "https://localhost:8080/"
        },
        "id": "alDUYAY_556P",
        "outputId": "5bee77c6-e94b-423d-84a0-accc094122af"
      },
      "outputs": [
        {
          "name": "stdout",
          "output_type": "stream",
          "text": [
            "4992\n",
            "4992\n",
            "NET Registered protocol family \n"
          ]
        }
      ],
      "source": [
        "import pandas as pd\n",
        "import json \n",
        "data = pd.read_csv('./test/datasets/Thunderbird/Thunderbird_template.csv', header = None)\n",
        "print(len(data))\n",
        "df = data.values[:,1]\n",
        "print(len(df))\n",
        "\n",
        "print(df[0])\n",
        "\n",
        "vec = []\n",
        "for i in range(0, len(df)):\n",
        "  tmp = ft.get_sentence_vector(df[i])\n",
        "  vec.append(tmp)\n",
        "\n",
        "\n"
      ]
    },
    {
      "cell_type": "code",
      "execution_count": null,
      "metadata": {
        "id": "7OZj-Z2OEjVu"
      },
      "outputs": [],
      "source": [
        "from sklearn.decomposition import PCA\n",
        "import numpy as np\n",
        "\n",
        "estimator = PCA(n_components=30)\n",
        "pca_result = estimator.fit_transform(vec)\n",
        "\n",
        "# Step1-3 PPA: De-averaged\n",
        "ppa_result = []\n",
        "result = pca_result - np.mean(pca_result)\n",
        "pca = PCA(n_components=30)\n",
        "pca_result = pca.fit_transform(result)\n",
        "U = pca.components_\n",
        "for i, x in enumerate(result):\n",
        "    for u in U[0:7]:\n",
        "        x = x - np.dot(u.transpose(), x) * u\n",
        "    ppa_result.append(list(x))\n",
        "ppa_result = np.array(ppa_result)\n",
        "\n",
        "#print(ppa_result)"
      ]
    },
    {
      "cell_type": "code",
      "execution_count": null,
      "metadata": {
        "id": "3JVS-7KsC1LF"
      },
      "outputs": [],
      "source": [
        "\n",
        "v1 = pd.DataFrame(vec)\n",
        "v1.to_csv(\"./test/datasets/Thunderbird/vector.csv\", index = None, header = None)\n"
      ]
    },
    {
      "cell_type": "code",
      "execution_count": null,
      "metadata": {
        "id": "N-rl9hogFWg9"
      },
      "outputs": [],
      "source": [
        "\n",
        "v2 = pd.DataFrame(ppa_result)\n",
        "v2.to_csv(\"./test/datasets/Thunderbird/pca_vector.csv\", index = None, header = None)"
      ]
    }
  ],
  "metadata": {
    "accelerator": "GPU",
    "colab": {
      "collapsed_sections": [],
      "name": "fasttext.ipynb",
      "provenance": []
    },
    "kernelspec": {
      "display_name": "Python 3",
      "name": "python3"
    },
    "language_info": {
      "name": "python"
    }
  },
  "nbformat": 4,
  "nbformat_minor": 0
}
